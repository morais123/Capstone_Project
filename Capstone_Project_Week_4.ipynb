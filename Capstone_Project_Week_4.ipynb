{
 "cells": [
  {
   "cell_type": "markdown",
   "metadata": {},
   "source": [
    "# Introduction\n"
   ]
  },
  {
   "cell_type": "markdown",
   "metadata": {},
   "source": [
    "## Description and discussion of the business problem"
   ]
  },
  {
   "cell_type": "markdown",
   "metadata": {},
   "source": [
    "In this capstone project we will explore the location data of lyon and will try to answer to a specific question regarding opening a vegan restaurant.\n",
    " Paris multi-cultural french city, it is a interesting type of restaurant because it is trendy right now.\n"
   ]
  },
  {
   "cell_type": "markdown",
   "metadata": {},
   "source": [
    "The target of this report are stakeholders who want to invest in opening a vegan restaurant in Paris without knowing the right borough to do it."
   ]
  },
  {
   "cell_type": "markdown",
   "metadata": {},
   "source": [
    "The purpose of trying to have a look at Paris's boroughs is to find locations that don't have this type of restaurant, therefore it will be an opportunity for investors. "
   ]
  },
  {
   "cell_type": "markdown",
   "metadata": {},
   "source": [
    "By categorizing the boroughs into clusters of venues we will try to answer the business problem of opening a vegan restaurant in Paris"
   ]
  },
  {
   "cell_type": "markdown",
   "metadata": {},
   "source": [
    "## Data description "
   ]
  },
  {
   "cell_type": "markdown",
   "metadata": {},
   "source": [
    "For the data retrieving we will set up some criterias :"
   ]
  },
  {
   "cell_type": "markdown",
   "metadata": {},
   "source": [
    "* Locations that are close to the city center are privileged\n",
    "* the extent of the search will concern also borough's related to \"Metropole de Paris\"\n",
    "* List of restaurants by borough\n",
    "* list of boroughs with no vegan restaurant \n",
    "* Trending venues in the area\n"
   ]
  },
  {
   "cell_type": "code",
   "execution_count": null,
   "metadata": {},
   "outputs": [],
   "source": []
  }
 ],
 "metadata": {
  "kernelspec": {
   "display_name": "Python 3",
   "language": "python",
   "name": "python3"
  },
  "language_info": {
   "codemirror_mode": {
    "name": "ipython",
    "version": 3
   },
   "file_extension": ".py",
   "mimetype": "text/x-python",
   "name": "python",
   "nbconvert_exporter": "python",
   "pygments_lexer": "ipython3",
   "version": "3.8.3"
  }
 },
 "nbformat": 4,
 "nbformat_minor": 4
}
